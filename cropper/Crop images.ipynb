{
 "cells": [
  {
   "cell_type": "code",
   "execution_count": 1,
   "metadata": {},
   "outputs": [],
   "source": [
    "import numpy as np"
   ]
  },
  {
   "cell_type": "code",
   "execution_count": 2,
   "metadata": {},
   "outputs": [],
   "source": [
    "def read_boxes(file_path: str) -> (str, (int, int), (int, int)):\n",
    "    with open(file_path) as file:\n",
    "        for line in file.readlines():\n",
    "            raw = line.split(\" \")\n",
    "            name = raw[0].replace(\"-\", \"\")\n",
    "            left = tuple(int(p) for p in  raw[1:3])\n",
    "            right = tuple(int(p) for p in raw[3:5])\n",
    "            yield (name, left, right)"
   ]
  },
  {
   "cell_type": "code",
   "execution_count": 3,
   "metadata": {},
   "outputs": [],
   "source": [
    "import imageio\n",
    "import glob"
   ]
  },
  {
   "cell_type": "code",
   "execution_count": 4,
   "metadata": {},
   "outputs": [],
   "source": [
    "def iter_images(root_dir_path: str) -> (str, np.array, str):\n",
    "    for i, path in enumerate(glob.iglob(f\"{root_dir_path}/**/*.jpg\")):\n",
    "        name = path.split(\"/\")[-1][:-4]\n",
    "        img = imageio.imread(path)\n",
    "        yield name, img, path\n",
    "    return i "
   ]
  },
  {
   "cell_type": "code",
   "execution_count": 5,
   "metadata": {},
   "outputs": [],
   "source": [
    "def save_image(path: str, image: np.array):\n",
    "    imageio.imwrite(path, image)"
   ]
  },
  {
   "cell_type": "code",
   "execution_count": 6,
   "metadata": {},
   "outputs": [],
   "source": [
    "def convert_path(original_path: str) -> str:\n",
    "    path = original_path.split(\"/\")\n",
    "    path[0] = 'converted'\n",
    "    return '/'.join(path)"
   ]
  },
  {
   "cell_type": "code",
   "execution_count": 46,
   "metadata": {},
   "outputs": [],
   "source": [
    "BOUNDING_BOXES = {name: tuple(adjust_points(left, right)) for name, left, right in read_boxes('bounding_boxes.txt')}"
   ]
  },
  {
   "cell_type": "code",
   "execution_count": 37,
   "metadata": {},
   "outputs": [],
   "source": [
    "def crop_image(image, left, right) -> np.array:\n",
    "    new_image = image[left[1]:right[1], left[0]:right[0]]\n",
    "    return new_image"
   ]
  },
  {
   "cell_type": "code",
   "execution_count": 13,
   "metadata": {},
   "outputs": [],
   "source": [
    "import os"
   ]
  },
  {
   "cell_type": "code",
   "execution_count": 47,
   "metadata": {},
   "outputs": [],
   "source": [
    "for name, image, path in iter_images('SET_B'):\n",
    "    cropped = crop_image(image, *BOUNDING_BOXES[name])\n",
    "    save_path = convert_path(path)\n",
    "    os.makedirs(\"/\".join(save_path.split(\"/\")[:-1]), exist_ok=True)\n",
    "    try:\n",
    "        save_image(save_path, cropped)\n",
    "    except Exception as exc:\n",
    "        print(f\"problem with {name}[{path}]: {BOUNDING_BOXES[name]}\\nCROPPED: {cropped}\")"
   ]
  },
  {
   "cell_type": "code",
   "execution_count": 45,
   "metadata": {},
   "outputs": [],
   "source": [
    "def adjust_points(p1, p2) -> ((int, int), (int, int)):\n",
    "    p1_0, p2_0 = (p1[0], p2[0]) if p1[0] < p2[0] else (p2[0], p1[0])\n",
    "    p1_1, p2_1 = (p1[1], p2[1]) if p1[1] < p2[1] else (p2[1], p1[1])\n",
    "    return (p1_0, p1_1), (p2_0, p2_1)    "
   ]
  },
  {
   "cell_type": "code",
   "execution_count": null,
   "metadata": {},
   "outputs": [],
   "source": []
  }
 ],
 "metadata": {
  "kernelspec": {
   "display_name": "Python 3",
   "language": "python",
   "name": "python3"
  },
  "language_info": {
   "codemirror_mode": {
    "name": "ipython",
    "version": 3
   },
   "file_extension": ".py",
   "mimetype": "text/x-python",
   "name": "python",
   "nbconvert_exporter": "python",
   "pygments_lexer": "ipython3",
   "version": "3.6.4"
  }
 },
 "nbformat": 4,
 "nbformat_minor": 2
}
